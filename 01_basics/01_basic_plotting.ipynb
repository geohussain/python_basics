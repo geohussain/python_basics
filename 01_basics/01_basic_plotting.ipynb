{
 "cells": [
  {
   "cell_type": "markdown",
   "metadata": {},
   "source": [
    "<style>\n",
    "@import url(https://www.numfys.net/static/css/nbstyle.css);\n",
    "</style>\n",
    "<a href=\"https://www.numfys.net\"><img class=\"logo\" /></a>\n",
    "\n",
    "# Basic Plotting in Python using Matplotlib\n",
    "\n",
    "### Modules - Basics\n",
    "<section class=\"post-meta\">\n",
    "By Magnus A. Gjennestad, Vegard Hagen, Aksel Kvaal, Morten Vassvik, Trygve B. Wiig and Peter Berg\n",
    "\n",
    "Editted by Hussain J. AlSalem\n",
    "</section>\n",
    "Last edited: June 25th 2019 \n",
    "___"
   ]
  },
  {
   "cell_type": "markdown",
   "metadata": {},
   "source": [
    "The following is a brief introduction to plotting in Python, using the library `matplotlib`. From the matplotlib [home page](http://matplotlib.org): *\"matplotlib tries to make easy things easy and hard things possible. (...) For simple plotting the <span style=\"font-family:Courier\">pyplot</span> interface provides a MATLAB-like interface, particularly when combined with IPython.\"* Since this is written in IPython Notebook, pyplot is a natural first choice. Let's get started!"
   ]
  },
  {
   "cell_type": "code",
   "execution_count": null,
   "metadata": {
    "pycharm": {
     "is_executing": false
    }
   },
   "outputs": [],
   "source": [
    "import numpy as np\n",
    "from matplotlib import pyplot as plt"
   ]
  },
  {
   "cell_type": "markdown",
   "metadata": {},
   "source": [
    "Above we have imported numpy, a package for scientific computing with Python, and pyplot. pyplot is part of matplotlib, as seen from how it is imported. Alternatively, it could be imported as follows"
   ]
  },
  {
   "cell_type": "code",
   "execution_count": null,
   "metadata": {},
   "outputs": [],
   "source": [
    "import matplotlib.pyplot as plt"
   ]
  },
  {
   "cell_type": "markdown",
   "metadata": {},
   "source": [
    "Also, notice how we have given shorter nicknames to both the numpy and pyplot import, in order to save some typing. Finally, we want to display the plots in the Notebook, not in an external window. To do this we use the command"
   ]
  },
  {
   "cell_type": "code",
   "execution_count": null,
   "metadata": {},
   "outputs": [],
   "source": [
    "%matplotlib inline"
   ]
  },
  {
   "cell_type": "markdown",
   "metadata": {},
   "source": [
    "### Plotting a Function"
   ]
  },
  {
   "cell_type": "markdown",
   "metadata": {},
   "source": [
    "__The task:__ \n",
    "\n",
    "How to plot a function $f$, given\n",
    "$$y=f(x)$$\n",
    "along an interval\n",
    "$$x=[a,b].$$\n",
    "\n",
    "\n",
    "__The Method:__\n",
    "\n",
    "Two steps are required in the code:\n",
    "1. We need to define the range for $x$.\n",
    "2. We use the $plt.plot$ command in which the function is defined."
   ]
  },
  {
   "cell_type": "markdown",
   "metadata": {},
   "source": [
    "__Example:__\n",
    "\n",
    "We would like to plot the function\n",
    "$$f(x)=3x^2+x-1$$\n",
    "for the interval\n",
    "$$x=[-1,2].$$\n",
    "\n",
    "__Step 1: Defining the range of $x$__\n",
    "\n",
    "In the Python code, we use the command"
   ]
  },
  {
   "cell_type": "code",
   "execution_count": null,
   "metadata": {},
   "outputs": [],
   "source": [
    "_start = # fill here #\n",
    "_end = # fill here #\n",
    "_npoints = # fill here #\n",
    "x = np.linspace(_start, _end, _npoints)"
   ]
  },
  {
   "cell_type": "markdown",
   "metadata": {},
   "source": [
    "This creates an array of $301$ linearly spaced, discrete values of x between $-1$ and $2$.\n",
    "\n",
    "__Step 2: Using the $plot$ command__\n",
    "\n",
    "The $plt.plot$ command allows us to plot the function.\n",
    "\n",
    "We need to specify the variable which is represented by the horizontal axis.\n",
    "It is mentioned first in the plot command.\n",
    "\n",
    "The second expression represents the function, corresponding to the\n",
    "vertical axis.\n",
    "In our case, we need to write"
   ]
  },
  {
   "cell_type": "code",
   "execution_count": null,
   "metadata": {
    "scrolled": true
   },
   "outputs": [],
   "source": [
    "f_x = # fill here #\n",
    "plt.plot(x, f_x);"
   ]
  },
  {
   "cell_type": "markdown",
   "metadata": {},
   "source": [
    "__Further Steps: Adding axes labels, a legend, a plot title, etc.__\n",
    "\n",
    "One option is to add axes labels, a legend, a title, a grid etc. to the plot by using the following commands:"
   ]
  },
  {
   "cell_type": "code",
   "execution_count": null,
   "metadata": {},
   "outputs": [],
   "source": [
    "plt.plot(x, f_x)\n",
    "x_label = # fill here #\n",
    "y_label = # fill here #\n",
    "_title = # fill here #\n",
    "plt.ylabel(y_label)                    # label on y-axis\n",
    "plt.xlabel(x_label)                    # label on x-axis\n",
    "plt.title(_title)                      # plot title\n",
    "plt.legend([r'$f(x)$'],loc=4)          # legend, loc gives location of the legend\n",
    "plt.grid();                            # grid"
   ]
  },
  {
   "cell_type": "markdown",
   "metadata": {},
   "source": [
    "Comment and uncomment the various commends to see how they effect the plot. \n",
    "\n",
    "You can also change the size of the figure quickly by using the following command:"
   ]
  },
  {
   "cell_type": "code",
   "execution_count": null,
   "metadata": {},
   "outputs": [],
   "source": [
    "plt.figure(figsize=(16, 8))            # create figure and change size\n",
    "plt.plot(x, f_x)\n",
    "plt.ylabel(r'$f(x)$')                  # label on y-axis\n",
    "plt.xlabel(r'$x$')                     # label on x-axis\n",
    "plt.title(r'Plot of $f(x)=3x^2+x-1$')  # plot title\n",
    "plt.legend([r'$f(x)$'], loc=2)         # legend\n",
    "plt.grid();                            # grid"
   ]
  },
  {
   "cell_type": "markdown",
   "metadata": {},
   "source": [
    "The $plt.figure()$ command also lets you set other parameters related to the figure. In most of the other modules and examples, we have set common figure parameters in the beginning of the module/example, by using the following lines of code:"
   ]
  },
  {
   "cell_type": "code",
   "execution_count": null,
   "metadata": {},
   "outputs": [],
   "source": [
    "from matplotlib import rc\n",
    "# Set common figure parameters:\n",
    "newparams = {'axes.labelsize': 11, 'axes.linewidth': 1, 'savefig.dpi': 300, \n",
    "             'lines.linewidth': 1.0, 'figure.figsize': (8, 3),\n",
    "             'ytick.labelsize': 10, 'xtick.labelsize': 10,\n",
    "             'ytick.major.pad': 5, 'xtick.major.pad': 5,}\n",
    "plt.rcParams.update(newparams)"
   ]
  },
  {
   "cell_type": "markdown",
   "metadata": {},
   "source": [
    "### Multiple Functions in One Plot"
   ]
  },
  {
   "cell_type": "markdown",
   "metadata": {},
   "source": [
    "Let us plot\n",
    "$$g(x)=3x^3+1$$\n",
    "in addition to our previous function:"
   ]
  },
  {
   "cell_type": "code",
   "execution_count": null,
   "metadata": {},
   "outputs": [],
   "source": [
    "g_x = # fill here #\n",
    "plt.plot(x, f_x, x, g_x);"
   ]
  },
  {
   "cell_type": "markdown",
   "metadata": {},
   "source": [
    "We need to make clear what graph corresponds to what function! We do this using the $legend()$ command:"
   ]
  },
  {
   "cell_type": "code",
   "execution_count": null,
   "metadata": {},
   "outputs": [],
   "source": [
    "plt.plot(x, f_x, x, g_x)\n",
    "# Create legend, and change legend location using \"loc\"\n",
    "plt.legend([r'$f(x)$',r'$g(x)$'], loc=2);"
   ]
  },
  {
   "cell_type": "markdown",
   "metadata": {},
   "source": [
    "This makes things easier to track."
   ]
  },
  {
   "cell_type": "markdown",
   "metadata": {},
   "source": [
    "### Final Note"
   ]
  },
  {
   "cell_type": "markdown",
   "metadata": {},
   "source": [
    "There are many more commands and options for plotting functions than presented \n",
    "in this module. However, we covered the most important ones.\n",
    "\n",
    "We need to use the matplotlib and pyplot online references when additional plotting features are required."
   ]
  }
 ],
 "metadata": {
  "kernelspec": {
   "display_name": "Python 3",
   "language": "python",
   "name": "python3"
  },
  "language_info": {
   "codemirror_mode": {
    "name": "ipython",
    "version": 3
   },
   "file_extension": ".py",
   "mimetype": "text/x-python",
   "name": "python",
   "nbconvert_exporter": "python",
   "pygments_lexer": "ipython3",
   "version": "3.6.8"
  }
 },
 "nbformat": 4,
 "nbformat_minor": 1
}
