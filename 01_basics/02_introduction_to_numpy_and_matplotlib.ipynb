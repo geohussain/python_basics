{
 "cells": [
  {
   "cell_type": "markdown",
   "metadata": {},
   "source": [
    "<style>\n",
    "@import url(https://www.numfys.net/static/css/nbstyle.css);\n",
    "</style>\n",
    "<a href=\"https://www.numfys.net\"><img class=\"logo\" /></a>\n",
    "\n",
    "# Introduction to NumPy and matplotlib\n",
    "\n",
    "### Modules - Basics\n",
    "<section class=\"post-meta\">\n",
    "By Jonas Tjemsland, Andreas Krogen, Håkon Ånes og Jon Andreas Støvneng\n",
    "    \n",
    "Editted by Hussain AlSalem\n",
    "</section>\n",
    "Last edited: June 25th 2019 \n",
    "___\n",
    "\n",
    "\n",
    "This notebook gives a brief introduction to NumPy and matplotlib. For a more detailed tutorial on NumPy, you can check out this [quickstart tutorial](https://docs.scipy.org/doc/numpy-dev/user/quickstart.html) by SciPy or check out the [NumPy and SciPy documentations](http://docs.scipy.org/doc/). The review of matplotlib includes the pyplot.plot() function and amongst other a couple of tips and tricks about the figure appearances."
   ]
  },
  {
   "cell_type": "markdown",
   "metadata": {},
   "source": [
    "## 1 NumPy arrays (vectors)\n",
    "\n",
    "*NumPy is the fundamental package for scientific computing with Python. It contains among other things:*  \n",
    "+ *a powerful N-dimensional array object*\n",
    "+ *sophisticated (broadcasting) functions*\n",
    "+ *tools for integrating C/C++ and Fortran code*\n",
    "+ *useful linear algebra, Fourier transform, and random number capabilities*    \n",
    "\n",
    "*Besides its obvious scientific uses, NumPy can also be used as an efficient multi-dimensional container of generic data. Arbitrary data-types can be defined. This allows NumPy to seamlessly and speedily integrate with a wide variety of databases.* [1]\n",
    "\n",
    "In this notebook we will discuss the numpy-array class (which we will use as vectors) and the advantages in using these instead of ordinary Python-array. As we shall see, this is a powerful tool in plotting.\n",
    "\n",
    "Let us start by importing the NumPy-library."
   ]
  },
  {
   "cell_type": "code",
   "execution_count": null,
   "metadata": {},
   "outputs": [],
   "source": [
    "import numpy as np"
   ]
  },
  {
   "cell_type": "markdown",
   "metadata": {},
   "source": [
    "We can easily transform an ordinary python-array to a numpy-array using numpy.array(), which takes an array as input an returns the corresponding numpy-array."
   ]
  },
  {
   "cell_type": "code",
   "execution_count": null,
   "metadata": {},
   "outputs": [],
   "source": [
    "array = [0,1,2,3,4,5]\n",
    "numpy_array = np.array(array)"
   ]
  },
  {
   "cell_type": "markdown",
   "metadata": {},
   "source": [
    "The array elements in the NumPy array are of a type that corresponds to float type, but we can specify the type of the elements (e.g. int) if we want. The square brackets operator ``[]`` works in the same manner as ordinary python arrays. For example ``numpy_array[i:j:k]`` picks out the elements starting from index ``i`` to, but not including, ``j`` with a step size ``k`` (``k=1`` by default). ``numpy_array[::k]`` will pick out every ``k``th element. Moreover, ``n=numpy_array[i:j:k]`` will make ``n`` a (soft) copy of the ``i``th element in ``numpy_array``. For clarity, check out the following examples. "
   ]
  },
  {
   "cell_type": "code",
   "execution_count": null,
   "metadata": {},
   "outputs": [],
   "source": [
    "print(numpy_array)\n",
    "print(numpy_array[2:])\n",
    "print(numpy_array[::2])\n",
    "print(numpy_array[1:4:2])\n",
    "print(numpy_array[0:5])"
   ]
  },
  {
   "cell_type": "code",
   "execution_count": null,
   "metadata": {},
   "outputs": [],
   "source": [
    "n = numpy_array[1:2]\n",
    "n[0] = 100\n",
    "print(numpy_array)"
   ]
  },
  {
   "cell_type": "markdown",
   "metadata": {},
   "source": [
    "If we multiply a scalar, $n$, with the ordinary array we get an array which consists of $n$ of the original arrays (example will follow). If we multiply the numpy-array with a scalar, each of the entries will be multiplied by the scalar."
   ]
  },
  {
   "cell_type": "code",
   "execution_count": null,
   "metadata": {},
   "outputs": [],
   "source": [
    "n = 5\n",
    "print(array*n)\n",
    "print(numpy_array*n)"
   ]
  },
  {
   "cell_type": "markdown",
   "metadata": {},
   "source": [
    "One advantage of these numpy-arrays is that we easily can perform mathematical operations on the whole array. For example, if we add (or subtract) a scalar to a numpy-array, the scalar will be added (or subtracted) element-wise. One can also add, subtract, multiply or divide two numpy-arrays of the same length, which is also done element-wise. If we try to do the same with an ordinary array, we get an error (except if we add them, in which case we will get one array consisting of the ones added). "
   ]
  },
  {
   "cell_type": "code",
   "execution_count": null,
   "metadata": {},
   "outputs": [],
   "source": [
    "print(5 + numpy_array)\n",
    "print(numpy_array + numpy_array)\n",
    "print(numpy_array*numpy_array)\n",
    "# The following gives errors:\n",
    "#5 + array\n",
    "#array - array\n",
    "#array*array"
   ]
  },
  {
   "cell_type": "markdown",
   "metadata": {},
   "source": [
    "We create empty numpy-arrays using ``numpy.zeros()`` or ``numpy.ones()``."
   ]
  },
  {
   "cell_type": "code",
   "execution_count": null,
   "metadata": {},
   "outputs": [],
   "source": [
    "print(np.zeros(10))\n",
    "print(np.ones(10))\n",
    "print([0]*10)\n",
    "print([1]*10)"
   ]
  },
  {
   "cell_type": "markdown",
   "metadata": {},
   "source": [
    "In NumPy it is easy to create vectors with increasing entries with different step sizes, e.g. ``[0, 0.1, 0.2, 0.3]``, which may for example be used to set the values on an axis. To do this you can use ``numpy.arange()`` or ``numpy.linspace()``. \n",
    "\n",
    "The input values in ``numpy.arange()`` is start value, end value (excluded) and step value, while the input values in ``numpy.linspace()`` is start value, end value (included by default) and number of values (and the step value is atomatically calculated). We now create to code snippets you can play around with:"
   ]
  },
  {
   "cell_type": "code",
   "execution_count": null,
   "metadata": {},
   "outputs": [],
   "source": [
    "# arange([start,] stop[, step,], dtype=None)\n",
    "#help(np.arange)\n",
    "a = np.arange(0,10,1)\n",
    "print(a)"
   ]
  },
  {
   "cell_type": "code",
   "execution_count": null,
   "metadata": {},
   "outputs": [],
   "source": [
    "# linspace(start, stop, num=50, endpoint=True, retstep=False, dtype=None)\n",
    "#help(np.linspace)\n",
    "b = np.linspace(0,10,10)\n",
    "print(b)"
   ]
  },
  {
   "cell_type": "markdown",
   "metadata": {},
   "source": [
    "NumPy includes several functions, such as trigonometric functions ($\\sin(x)$, $\\cos(x)$, etc.), hyperbolic functions ($\\cosh(x)$, $\\sinh(x)$, etc.), logarithms, exponentials and many more. The following code snippet shows some examples."
   ]
  },
  {
   "cell_type": "code",
   "execution_count": null,
   "metadata": {},
   "outputs": [],
   "source": [
    "x = np.linspace(0,5,5,endpoint=False)\n",
    "print('x =       ', x)\n",
    "print('5x^2+4 =  ', 5*x**2+4)\n",
    "print('cos(x) =  ', np.cos(x))\n",
    "print('sin(x) =  ', np.sin(x))\n",
    "print('tan(x) =  ', np.tan(x))\n",
    "print('cosh(x) = ', np.cosh(x))\n",
    "print('e^x =     ', np.exp(x))\n",
    "print('log(x+1) =', np.log(x+1))"
   ]
  },
  {
   "cell_type": "markdown",
   "metadata": {},
   "source": [
    "## 2 Function definitions"
   ]
  },
  {
   "cell_type": "markdown",
   "metadata": {},
   "source": [
    "Function is a block of code that easily can be reused. This gives a slimmer and more readable code. We have already been using a lot of predefined functions, such as `print()`, `np.arange()`, `np.linspace()`, `np.cos()`, `np.tanh()`, and so forth. We will not discuss how we define our own functions detail nor how they work, but simply implement an example. For a more detailed discussion on functions, check out this [tutorial](http://www.tutorialspoint.com/python/python_functions.htm)."
   ]
  },
  {
   "cell_type": "code",
   "execution_count": null,
   "metadata": {},
   "outputs": [],
   "source": [
    "def function_name(first_parameter, second_parameter=2):\n",
    "    \"\"\"This is an example of a function. This text\n",
    "    should explain what the function does, what\n",
    "    it returns and what input parameters it takes.\n",
    "    \n",
    "    :first_parameter: explanation of first_parameter\n",
    "    :second_parameter: explanation of second_parameter\n",
    "    :returns: explanation of return value(s)\n",
    "    \"\"\"\n",
    "    some_variable = first_parameter*second_parameter\n",
    "    return some_variable"
   ]
  },
  {
   "cell_type": "code",
   "execution_count": null,
   "metadata": {},
   "outputs": [],
   "source": [
    "print(function_name(1))\n",
    "print(function_name(1,5))\n",
    "print(function_name(numpy_array,10))"
   ]
  },
  {
   "cell_type": "markdown",
   "metadata": {},
   "source": [
    "## 3 Plotting using matplotlib's pyplot\n",
    "*matplotlib is a python 2D plotting library which produces publication quality figures in a variety of hardcopy formats and interactive environments across platforms. matplotlib can be used in python scripts, the python and ipython shell, web application servers, and six graphical user interface toolkits.*\n",
    "\n",
    "*matplotlib tries to make easy things easy and hard things possible. You can generate plots, histograms, power spectra, bar charts, errorcharts, scatterplots, etc, with just a few lines of code. For a sampling, see the screenshots, thumbnail gallery, and examples directory*\n",
    "\n",
    "*For simple plotting the pyplot interface provides a MATLAB-like interface, particularly when combined with IPython. For the power user, you have full control of line styles, font properties, axes properties, etc, via an object oriented interface or via a set of functions familiar to MATLAB users.* [2]\n",
    "\n",
    "Matplotlib includes a number of functions with an unlimited number of plotting alternatives. The easiest way to learn to plot in Python is, accoring to the autors of this notebook, to look on examples. We start by importing matplotlib's pyplot."
   ]
  },
  {
   "cell_type": "code",
   "execution_count": null,
   "metadata": {},
   "outputs": [],
   "source": [
    "import matplotlib.pyplot as plt\n",
    "# The following line specifies that figures should be shown directly in the notebook.\n",
    "%matplotlib inline"
   ]
  },
  {
   "cell_type": "markdown",
   "metadata": {},
   "source": [
    "In this notebook, we are going to take a closer look at `plt.plot()` and a couple of plotting techniques (such as global plotting parameters). We are going to use NumPy-arrays, as discussed earlier. All of the following can, in principle, be achieved using ordinary Python arrays. If you are in search of other plotting functions check out [numfys](https://www.numfys.net/), [matplotlib's website](https://www.numfys.net/) or search the internet."
   ]
  },
  {
   "cell_type": "markdown",
   "metadata": {},
   "source": [
    "### 3.1 First plot - plotting of a function\n",
    "As an example, let us plot the trigonometric functions $f(x)=a\\cos(x)$ og $g(x)=b\\sin(x)$ using functions. When a computer plots a function it needs to evaluate the function at discrete points. Then it can draw lines between these points. Thus, we also need to specify a number of discrete $x$-values, say 100 values from $-\\pi$ to $\\pi$."
   ]
  },
  {
   "cell_type": "code",
   "execution_count": null,
   "metadata": {},
   "outputs": [],
   "source": [
    "def f(x): return np.cos(x)\n",
    "def g(x): return np.sin(x)\n",
    "x = np.linspace(-np.pi,np.pi,100) # The"
   ]
  },
  {
   "cell_type": "code",
   "execution_count": null,
   "metadata": {},
   "outputs": [],
   "source": [
    "y1 = f(x)\n",
    "y2 = g(x)\n",
    "plt.plot(x,y1)\n",
    "plt.plot(x,y2)\n",
    "plt.show()"
   ]
  },
  {
   "cell_type": "markdown",
   "metadata": {},
   "source": [
    "### 3.2 Changing appearance and adding labels\n",
    "The following code snippet adds some labels and changes some appearances. As stated earlier, there are a unlimited number of different plotting parameters!"
   ]
  },
  {
   "cell_type": "code",
   "execution_count": null,
   "metadata": {},
   "outputs": [],
   "source": [
    "plt.figure(figsize=(8, 6))\n",
    "plt.plot(x,f(x),'b--',linewidth=2,label=r'$f(x)=\\cos(x)$')\n",
    "plt.plot(x,g(x),'r',label=r'$g(x)=\\sin(x)$')\n",
    "plt.title('Trigonometric functions')\n",
    "plt.xlabel(r'$x$-axis')\n",
    "plt.ylabel(r'$y$-axis')\n",
    "plt.xlim([-np.pi,np.pi])\n",
    "plt.legend()\n",
    "plt.grid(True)\n",
    "plt.show()"
   ]
  },
  {
   "cell_type": "markdown",
   "metadata": {},
   "source": [
    "### 3.3 Subplots\n",
    "We can easily create subplots (several plots in one figure) using `plt.subplot()`, which takes the number of rows, the number of columns and the plot number as input arguments. Within each subplot, we can plot as usual."
   ]
  },
  {
   "cell_type": "code",
   "execution_count": null,
   "metadata": {},
   "outputs": [],
   "source": [
    "plt.figure()\n",
    "\n",
    "plt.subplot(1,2,1)\n",
    "plt.title('Cosine')\n",
    "plt.plot(x,f(x))\n",
    "plt.xlim([-np.pi,np.pi])\n",
    "\n",
    "plt.subplot(1,2,2)\n",
    "plt.title('Sine')\n",
    "plt.plot(x,g(x))\n",
    "plt.xlim([-np.pi,np.pi])\n",
    "plt.show()"
   ]
  },
  {
   "cell_type": "markdown",
   "metadata": {},
   "source": [
    "### 3.4 Scatter plots and linestyles\n",
    "Scientists often conduct experiments where the result is a discrete number of data points. It is often necessary to plot the data as points in the plane. This is done using a scatter plot with `plt.plot()` or `plt.scatter()`. The latter is specifically created for scatter plots."
   ]
  },
  {
   "cell_type": "code",
   "execution_count": null,
   "metadata": {},
   "outputs": [],
   "source": [
    "num = 10\n",
    "x = np.linspace(0,10,num,endpoint=False)\n",
    "plt.plot(x, [1]*num, '^b')\n",
    "plt.plot(x, [2]*num, '.r')\n",
    "plt.plot(x, [3]*num, '--sk')\n",
    "plt.plot(x, [4]*num, '-ro')\n",
    "plt.scatter(x, [5]*num, s=50, c='m', marker='o')\n",
    "plt.scatter(x, [6]*num, s=200, c='y', marker='^')\n",
    "plt.ylim(0,7)\n",
    "plt.show()"
   ]
  },
  {
   "cell_type": "markdown",
   "metadata": {},
   "source": [
    "### 3.5 Global plotting parameters\n",
    "One way to change the appearance of plots is to use global plotting parameters. This way it is easy to get the plots exactly as you want with a slim code. The same result can be achieved if the parameters as specified to each plot, but this gives more code and the code has to be specified for each plot.\n",
    "\n",
    "In the next code snippet, a set of global plotting parameters are set. Play with them! To find more alternatives, check out this text on [customizing matplotlib](http://matplotlib.org/users/customizing.html)."
   ]
  },
  {
   "cell_type": "code",
   "execution_count": null,
   "metadata": {},
   "outputs": [],
   "source": [
    "newparams = {'axes.labelsize': 15, 'axes.linewidth': 1,\n",
    "             'axes.grid': True,'lines.linewidth': 1.5, \n",
    "             'figure.figsize': (8, 5),\n",
    "             'ytick.labelsize': 15, 'xtick.labelsize': 15,\n",
    "             'ytick.major.pad': 5, 'xtick.major.pad': 5,\n",
    "             'legend.fontsize': 15, 'legend.frameon': True, \n",
    "             'legend.handlelength': 1.5, 'axes.titlesize': 20,\n",
    "             'mathtext.fontset': 'stix', 'font.family': 'STIXGeneral'}\n",
    "plt.rcParams.update(newparams)"
   ]
  },
  {
   "cell_type": "markdown",
   "metadata": {},
   "source": [
    "Let us test these new settings!"
   ]
  },
  {
   "cell_type": "code",
   "execution_count": null,
   "metadata": {},
   "outputs": [],
   "source": [
    "def f(x): return np.cos(5*x)*np.exp(-x**2)\n",
    "x = np.linspace(-np.pi,np.pi,100)"
   ]
  },
  {
   "cell_type": "code",
   "execution_count": null,
   "metadata": {},
   "outputs": [],
   "source": [
    "plt.figure()\n",
    "plt.plot(x,f(x),label=r'$f(x)=\\cos(5x)\\cdot e^{-x^2}$')\n",
    "plt.title('Title')\n",
    "plt.xlabel(r'$x$-axis')\n",
    "plt.ylabel(r'$y$-axis')\n",
    "plt.xlim([-np.pi,np.pi])\n",
    "plt.legend()\n",
    "plt.show()"
   ]
  },
  {
   "cell_type": "markdown",
   "metadata": {},
   "source": [
    "### 3.6 More 2D plotting functions\n",
    "In this notebook we only discuss line plots and scatter plots. However, there a number of different plotting functions one can use! For example, `plt.contour()`, `plt.imshow()`, `plt.streamplot()` and `plt.arrow()` can be used to illustrate contours, surfaces, stream lines or [electric fields and potentials](https://nbviewer.jupyter.org/urls/www.numfys.net/media/notebooks/electric_fields_potentials_from_point_charges.ipynb), `plt.hist()` and `plt.bar()` can be used to illustrate different statistical data, and `plt.boxplot()` can be used to visualise the errors in a scatter plot."
   ]
  },
  {
   "cell_type": "markdown",
   "metadata": {},
   "source": [
    "### 3.7 3D plots\n",
    "If we specify that the figure should be a 3D-axis, we can simply use the same functions as earlier to create a 3D-line plot."
   ]
  },
  {
   "cell_type": "code",
   "execution_count": null,
   "metadata": {},
   "outputs": [],
   "source": [
    "import matplotlib as mpl\n",
    "from mpl_toolkits.mplot3d import Axes3D\n",
    "mpl.rcParams.update(newparams)\n",
    "\n",
    "fig = plt.figure()\n",
    "ax = fig.gca(projection='3d')\n",
    "theta = np.linspace(-4 * np.pi, 4 * np.pi, 100)\n",
    "z = np.linspace(-2, 2, 100)\n",
    "r = z\n",
    "x = np.sin(theta)\n",
    "y = np.cos(theta)\n",
    "ax.plot(x, y, z, label='parametric curve')\n",
    "ax.legend()\n",
    "plt.show()"
   ]
  },
  {
   "cell_type": "markdown",
   "metadata": {},
   "source": [
    "This also works for scatter plots. There are a number of different plotting functions to create 3D plots, such as surface plots, contour plots and wireframe plots. Check out [these examples](http://matplotlib.org/mpl_toolkits/mplot3d/tutorial.html#toolkit-mplot3d-tutorial)!"
   ]
  },
  {
   "cell_type": "markdown",
   "metadata": {},
   "source": [
    "[1] http://www.numpy.org/  \n",
    "[2] http://matplotlib.org/"
   ]
  }
 ],
 "metadata": {
  "anaconda-cloud": {},
  "kernelspec": {
   "display_name": "Python 3",
   "language": "python",
   "name": "python3"
  },
  "language_info": {
   "codemirror_mode": {
    "name": "ipython",
    "version": 3
   },
   "file_extension": ".py",
   "mimetype": "text/x-python",
   "name": "python",
   "nbconvert_exporter": "python",
   "pygments_lexer": "ipython3",
   "version": "3.6.8"
  }
 },
 "nbformat": 4,
 "nbformat_minor": 1
}
