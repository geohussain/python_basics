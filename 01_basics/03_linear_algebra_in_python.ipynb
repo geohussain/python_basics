{
 "cells": [
  {
   "cell_type": "markdown",
   "metadata": {},
   "source": [
    "<style>\n",
    "@import url(https://www.numfys.net/static/css/nbstyle.css);\n",
    "</style>\n",
    "<a href=\"https://www.numfys.net\"><img class=\"logo\" /></a>\n",
    "\n",
    "# Linear Algebra in Python\n",
    "\n",
    "### Modules - Basics\n",
    "<section class=\"post-meta\">\n",
    "By Henning G. Hugdal, Håkon W. Ånes and Jon Andreas Støvneng\n",
    "</section>\n",
    "Last edited: February 7th 2018 \n",
    "___"
   ]
  },
  {
   "cell_type": "markdown",
   "metadata": {},
   "source": [
    "Even though matrix operations might not be as naturally built in to Python as in for instance MATLAB, Python can be used to solve linear algebra problems. In addition to functions in the `numpy` base library, `numpy` also has its own linear algebra package called `linalg`. In this module we will take a look at how `numpy` and `linalg` can be used to handle matrices. First of all we need to import `numpy` and `linalg`:"
   ]
  },
  {
   "cell_type": "code",
   "execution_count": 1,
   "metadata": {},
   "outputs": [],
   "source": [
    "import numpy as np\n",
    "import numpy.linalg as la"
   ]
  },
  {
   "cell_type": "markdown",
   "metadata": {},
   "source": [
    "### Basic operations"
   ]
  },
  {
   "cell_type": "markdown",
   "metadata": {},
   "source": [
    "Let's first define two matrices $A$ and $B$ by using `numpy` arrays:"
   ]
  },
  {
   "cell_type": "code",
   "execution_count": 2,
   "metadata": {},
   "outputs": [],
   "source": [
    "A = np.array([[1, 2],\n",
    "              [1, 2]])\n",
    "B = np.array([[2, 1],\n",
    "             [1, 2]])"
   ]
  },
  {
   "cell_type": "markdown",
   "metadata": {},
   "source": [
    "In order to do a regular matrix multiplication between $A$ and $B$ we use the `numpy` function `inner(A,B)`:"
   ]
  },
  {
   "cell_type": "code",
   "execution_count": 5,
   "metadata": {},
   "outputs": [
    {
     "name": "stdout",
     "output_type": "stream",
     "text": [
      "[[4 5]\n",
      " [4 5]]\n"
     ]
    }
   ],
   "source": [
    "print(np.inner(A, B))"
   ]
  },
  {
   "cell_type": "markdown",
   "metadata": {},
   "source": [
    "Powers of the same matrix can be calculated using `linalg.matrix_powers(A,n)`, where $n$ is the integer power."
   ]
  },
  {
   "cell_type": "code",
   "execution_count": 7,
   "metadata": {},
   "outputs": [
    {
     "name": "stdout",
     "output_type": "stream",
     "text": [
      "[[3 6]\n",
      " [3 6]]\n"
     ]
    }
   ],
   "source": [
    "print(la.matrix_power(A, 2))"
   ]
  },
  {
   "cell_type": "markdown",
   "metadata": {},
   "source": [
    "### Solving Linear Systems of Equations"
   ]
  },
  {
   "cell_type": "markdown",
   "metadata": {},
   "source": [
    "Linear systems of equations $A\\vec{x}=b$ can be solved using `linalg.solve(A,b)`, which returns the vector $\\vec{x}$. As an example, let's solve the system of equations\n",
    "$$\\begin{align}\n",
    "2x + y - z &= 8\\\\\n",
    "-3x - y + 2z &= -11\\\\\n",
    "-2x + y + 2z &= -3,\n",
    "\\end{align}$$"
   ]
  },
  {
   "cell_type": "code",
   "execution_count": 8,
   "metadata": {},
   "outputs": [
    {
     "name": "stdout",
     "output_type": "stream",
     "text": [
      "[ 2.  3. -1.]\n"
     ]
    }
   ],
   "source": [
    "A = np.array([[2, 1, -1],\n",
    "             [-3, -1, 2],\n",
    "             [-2, 1, 2]])\n",
    "b = np.array([8, -11, -3])\n",
    "\n",
    "x = la.solve(A, b)\n",
    "print(x)"
   ]
  },
  {
   "cell_type": "markdown",
   "metadata": {},
   "source": [
    " We see that the solution is $x=2$, $y=3$ and $z=-1$. We could also have solved the above by calculating the inverse of $A$ and multiplying it with $b$. The inverse of $A$ can be calculated using `linalg.inv(A)`."
   ]
  },
  {
   "cell_type": "code",
   "execution_count": 9,
   "metadata": {},
   "outputs": [
    {
     "name": "stdout",
     "output_type": "stream",
     "text": [
      "[ 2.  3. -1.]\n"
     ]
    }
   ],
   "source": [
    "A_inv = la.inv(A)\n",
    "x = np.inner(A_inv, b)\n",
    "print(x)"
   ]
  },
  {
   "cell_type": "markdown",
   "metadata": {},
   "source": [
    "We see that this gives the same solution, as it should!"
   ]
  },
  {
   "cell_type": "markdown",
   "metadata": {},
   "source": [
    "### Eigenvalue Problems"
   ]
  },
  {
   "cell_type": "markdown",
   "metadata": {},
   "source": [
    "The `linalg` package can also be used to find the eigenvalus and eigenvectors of a matrix, that is, the vector $\\vec{x}$ of a matrix $A$ which fulfills\n",
    "$$ A\\vec{x} = a \\vec{x},$$\n",
    "where $a$ is a constant. Let's determine the eigenvalues and eigenvectors of the matrix $B$ defined above."
   ]
  },
  {
   "cell_type": "code",
   "execution_count": 12,
   "metadata": {},
   "outputs": [
    {
     "name": "stdout",
     "output_type": "stream",
     "text": [
      "Eigenvalues:\n",
      " [3. 1.]\n",
      "Eigenvectors:\n",
      "[0.70710678 0.70710678]\n",
      "[-0.70710678  0.70710678]\n"
     ]
    }
   ],
   "source": [
    "(a, x) = la.eig(B)\n",
    "print(\"Eigenvalues:\\n\", a)\n",
    "print(\"Eigenvectors:\")\n",
    "for i in range(len(x)):\n",
    "    print(x[:, i])"
   ]
  },
  {
   "cell_type": "markdown",
   "metadata": {},
   "source": [
    "From the above we see that $B$ has the eigenvalues $3$ and $1$ with eigenvectors $[1, 1]/\\sqrt{2}$ and $[-1,1]/\\sqrt{2}$ respectively. The function `eig` returns an array $a$ of eigenvalues and array $x$ with normalized eigenvectors, such that the vector `x[:,i]` corresponds to the eigenvalue `a[i]`."
   ]
  },
  {
   "cell_type": "markdown",
   "metadata": {},
   "source": [
    "The above shows just some of the various functions available in the `numpy` and `linalg` libraries. For more information, see the link to the documentation below."
   ]
  },
  {
   "cell_type": "markdown",
   "metadata": {},
   "source": [
    "### References\n",
    "[1] [Documentation](http://docs.scipy.org/doc/numpy/reference/routines.linalg.html) of the Numpy Linear Algebra package."
   ]
  }
 ],
 "metadata": {
  "kernelspec": {
   "display_name": "Python 3",
   "language": "python",
   "name": "python3"
  },
  "language_info": {
   "codemirror_mode": {
    "name": "ipython",
    "version": 3
   },
   "file_extension": ".py",
   "mimetype": "text/x-python",
   "name": "python",
   "nbconvert_exporter": "python",
   "pygments_lexer": "ipython3",
   "version": "3.5.4"
  }
 },
 "nbformat": 4,
 "nbformat_minor": 1
}
